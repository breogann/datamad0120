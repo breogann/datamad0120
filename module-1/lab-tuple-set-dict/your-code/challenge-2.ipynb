{
 "cells": [
  {
   "cell_type": "markdown",
   "metadata": {},
   "source": [
    "## Challenge 2: Sets\n",
    "\n",
    "There are a lot to learn about Python Sets and the information presented in the lesson is limited due to its length. To learn Python Sets in depth you are strongly encouraged to review the W3Schools tutorial on [Python Sets Examples and Methods](https://www.w3schools.com/python/python_sets.asp) before you work on this lab. Some difficult questions in this lab have their solutions in the W3Schools tutorial.\n",
    "\n",
    "#### First, import the Python `random` libary"
   ]
  },
  {
   "cell_type": "code",
   "execution_count": 52,
   "metadata": {},
   "outputs": [],
   "source": [
    "import random"
   ]
  },
  {
   "cell_type": "markdown",
   "metadata": {},
   "source": [
    "#### In the cell below, create a list named `sample_list_1` with 80 random values. \n",
    "\n",
    "Requirements:\n",
    "\n",
    "* Each value is an integer falling between 0 and 100.\n",
    "* Each value in the list is unique.\n",
    "\n",
    "Print `sample_list_1` to review its values\n",
    "\n",
    "*Hint: use `random.sample` ([reference](https://docs.python.org/3/library/random.html#random.sample)).*"
   ]
  },
  {
   "cell_type": "code",
   "execution_count": 62,
   "metadata": {},
   "outputs": [
    {
     "name": "stdout",
     "output_type": "stream",
     "text": [
      "80\n"
     ]
    }
   ],
   "source": [
    "# Your code here\n",
    "\n",
    "sample_list_1 = random.sample(range(101), k = 80)\n",
    "\n",
    "print(len(sample_list_1))\n"
   ]
  },
  {
   "cell_type": "markdown",
   "metadata": {},
   "source": [
    "#### Convert `sample_list_1` to a set called `set1`. Print the length of the set. Is its length still 80?"
   ]
  },
  {
   "cell_type": "code",
   "execution_count": 63,
   "metadata": {},
   "outputs": [
    {
     "name": "stdout",
     "output_type": "stream",
     "text": [
      "{0, 1, 2, 3, 4, 5, 9, 11, 13, 14, 15, 16, 17, 18, 20, 21, 22, 23, 24, 25, 26, 28, 29, 30, 31, 33, 34, 35, 36, 37, 38, 39, 40, 41, 43, 45, 46, 48, 49, 50, 51, 52, 53, 54, 55, 56, 57, 58, 59, 60, 61, 62, 63, 64, 66, 68, 69, 70, 72, 74, 75, 77, 78, 79, 80, 81, 82, 83, 84, 86, 87, 88, 90, 92, 93, 94, 95, 96, 97, 99}\n",
      "La longitud del set es: 80\n"
     ]
    }
   ],
   "source": [
    "# Your code here\n",
    "\n",
    "set1 = set(sample_list_1)\n",
    "\n",
    "print(set1)\n",
    "\n",
    "print(\"La longitud del set es:\", len(set1))"
   ]
  },
  {
   "cell_type": "markdown",
   "metadata": {},
   "source": [
    "#### Create another list named `sample_list_2` with 80 random values.\n",
    "\n",
    "Requirements:\n",
    "\n",
    "* Each value is an integer falling between 0 and 100.\n",
    "* The values in the list don't have to be unique.\n",
    "\n",
    "*Hint: Use a FOR loop.*"
   ]
  },
  {
   "cell_type": "code",
   "execution_count": 64,
   "metadata": {},
   "outputs": [
    {
     "name": "stdout",
     "output_type": "stream",
     "text": [
      "[14, 99, 1, 47, 55, 59, 41, 12, 26, 88, 21, 86, 96, 55, 16, 31, 37, 18, 49, 35, 94, 15, 36, 15, 1, 60, 94, 74, 56, 13, 18, 74, 15, 25, 67, 69, 53, 53, 68, 23, 32, 6, 96, 54, 37, 35, 5, 4, 50, 86, 39, 93, 89, 29, 62, 60, 8, 5, 47, 43, 33, 40, 90, 97, 80, 100, 78, 58, 97, 42, 64, 19, 82, 85, 14, 37, 96, 94, 61, 72]\n"
     ]
    }
   ],
   "source": [
    "# Your code here\n",
    "\n",
    "sample_list_2 = []\n",
    "\n",
    "for i in range (80):\n",
    "    aleatorio = random.randint(0,100)\n",
    "    sample_list_2.append(aleatorio)\n",
    "    \n",
    "print(sample_list_2)"
   ]
  },
  {
   "cell_type": "markdown",
   "metadata": {},
   "source": [
    "#### Convert `sample_list_2` to a set called `set2`. Print the length of the set. Is its length still 80?"
   ]
  },
  {
   "cell_type": "code",
   "execution_count": 65,
   "metadata": {},
   "outputs": [
    {
     "name": "stdout",
     "output_type": "stream",
     "text": [
      "{1, 4, 5, 6, 8, 12, 13, 14, 15, 16, 18, 19, 21, 23, 25, 26, 29, 31, 32, 33, 35, 36, 37, 39, 40, 41, 42, 43, 47, 49, 50, 53, 54, 55, 56, 58, 59, 60, 61, 62, 64, 67, 68, 69, 72, 74, 78, 80, 82, 85, 86, 88, 89, 90, 93, 94, 96, 97, 99, 100}\n",
      "La longitud del set es: 60\n"
     ]
    }
   ],
   "source": [
    "# Your code here\n",
    "\n",
    "set2 = set(sample_list_2)\n",
    "\n",
    "print(set2)\n",
    "\n",
    "print(\"La longitud del set es:\", len(set2))\n"
   ]
  },
  {
   "cell_type": "markdown",
   "metadata": {},
   "source": [
    "#### Identify the elements present in `set1` but not in `set2`. Assign the elements to a new set named `set3`."
   ]
  },
  {
   "cell_type": "code",
   "execution_count": 66,
   "metadata": {},
   "outputs": [
    {
     "name": "stdout",
     "output_type": "stream",
     "text": [
      "{0, 2, 3, 9, 11, 17, 20, 22, 24, 28, 30, 34, 38, 45, 46, 48, 51, 52, 57, 63, 66, 70, 75, 77, 79, 81, 83, 84, 87, 92, 95}\n"
     ]
    }
   ],
   "source": [
    "# Your code here\n",
    "\n",
    "set3 = set(set1) - set(set2)\n",
    "\n",
    "print(set3)\n",
    "\n",
    "#Hola! por qué sale entre corchetes?\n"
   ]
  },
  {
   "cell_type": "markdown",
   "metadata": {},
   "source": [
    "#### Identify the elements present in `set2` but not in `set1`. Assign the elements to a new set named `set4`."
   ]
  },
  {
   "cell_type": "code",
   "execution_count": 45,
   "metadata": {},
   "outputs": [
    {
     "name": "stdout",
     "output_type": "stream",
     "text": [
      "{0, 4, 6, 7, 8, 12, 13, 18, 23, 26, 31, 36, 41, 43, 47, 48, 52, 54, 57, 59, 62, 66, 73, 76, 82, 84, 90, 94, 99}\n"
     ]
    }
   ],
   "source": [
    "# Your code here\n",
    "\n",
    "set4 = set(set2)-set(set1)\n",
    "\n",
    "print(set4)\n"
   ]
  },
  {
   "cell_type": "markdown",
   "metadata": {},
   "source": [
    "#### Now Identify the elements shared between `set1` and `set2`. Assign the elements to a new set named `set5`."
   ]
  },
  {
   "cell_type": "code",
   "execution_count": 46,
   "metadata": {},
   "outputs": [
    {
     "name": "stdout",
     "output_type": "stream",
     "text": [
      "[1, 3, 5, 11, 14, 21, 22, 24, 25, 29, 32, 35, 38, 40, 50, 60, 64, 69, 72, 74, 75, 78, 80, 86, 91, 93, 96, 97, 98]\n"
     ]
    }
   ],
   "source": [
    "# Your code here\n",
    "\n",
    "set5 = list(set(set1).intersection(set(set2)))\n",
    "\n",
    "print(set5)"
   ]
  },
  {
   "cell_type": "markdown",
   "metadata": {},
   "source": [
    "#### What is the relationship among the following values:\n",
    "\n",
    "* len(set1)\n",
    "* len(set2)\n",
    "* len(set3)\n",
    "* len(set4)\n",
    "* len(set5)\n",
    "\n",
    "Use a math formular to represent that relationship. Test your formular with Python code."
   ]
  },
  {
   "cell_type": "code",
   "execution_count": 48,
   "metadata": {},
   "outputs": [
    {
     "name": "stdout",
     "output_type": "stream",
     "text": [
      "55\n",
      "58\n",
      "26\n",
      "29\n",
      "29\n"
     ]
    }
   ],
   "source": [
    "# Your code here\n",
    "\n",
    "print(len(set1))\n",
    "print(len(set2))\n",
    "print(len(set3))\n",
    "print(len(set4))\n",
    "print(len(set5))\n",
    "\n",
    "\n",
    "\n"
   ]
  },
  {
   "cell_type": "markdown",
   "metadata": {},
   "source": [
    "#### Create an empty set called `set6`."
   ]
  },
  {
   "cell_type": "code",
   "execution_count": 89,
   "metadata": {},
   "outputs": [],
   "source": [
    "# Your code here\n",
    "\n",
    "set6 = set()\n"
   ]
  },
  {
   "cell_type": "markdown",
   "metadata": {},
   "source": [
    "#### Add `set3` and `set5` to `set6` using the Python Set `update` method."
   ]
  },
  {
   "cell_type": "code",
   "execution_count": 90,
   "metadata": {},
   "outputs": [
    {
     "name": "stdout",
     "output_type": "stream",
     "text": [
      "{1, 3, 5, 7, 8, 10, 13, 14, 17, 19, 21, 23, 24, 26, 28, 30, 31, 32, 35, 39, 41, 42, 43, 44, 47, 48, 49, 50, 51, 55, 56, 57, 58, 60, 62, 65, 66, 69, 70, 75, 76, 79, 80, 82, 83, 86, 87, 88, 89, 91, 93, 96, 99} {0, 2, 4, 6, 9, 12, 15, 18, 22, 25, 27, 29, 33, 46, 52, 53, 54, 59, 63, 67, 72, 73, 77, 85, 94, 95, 98, 100} set()\n",
      "{1, 3, 5, 7, 8, 10, 13, 14, 17, 19, 21, 23, 24, 26, 28, 30, 31, 32, 35, 39, 41, 42, 43, 44, 47, 48, 49, 50, 51, 55, 56, 57, 58, 60, 62, 65, 66, 69, 70, 75, 76, 79, 80, 82, 83, 86, 87, 88, 89, 91, 93, 96, 99}\n",
      "{1, 3, 5, 7, 8, 10, 13, 14, 17, 19, 21, 23, 24, 26, 28, 30, 31, 32, 35, 39, 41, 42, 43, 44, 47, 48, 49, 50, 51, 55, 56, 57, 58, 60, 62, 65, 66, 69, 70, 75, 76, 79, 80, 82, 83, 86, 87, 88, 89, 91, 93, 96, 99}\n"
     ]
    }
   ],
   "source": [
    "# Your code here\n",
    "\n",
    "\n",
    "print(set3, set4, set6)\n",
    "\n",
    "set6.update(set3)\n",
    "print(set3)\n",
    "\n",
    "set6.update(set4)\n",
    "print(set3)\n",
    "\n"
   ]
  },
  {
   "cell_type": "markdown",
   "metadata": {},
   "source": [
    "#### Check if `set1` and `set6` are equal."
   ]
  },
  {
   "cell_type": "code",
   "execution_count": 91,
   "metadata": {},
   "outputs": [
    {
     "data": {
      "text/plain": [
       "False"
      ]
     },
     "execution_count": 91,
     "metadata": {},
     "output_type": "execute_result"
    }
   ],
   "source": [
    "# Your code here\n",
    "\n",
    "set1==set6\n"
   ]
  },
  {
   "cell_type": "markdown",
   "metadata": {},
   "source": [
    "#### Check if `set1` contains `set2` using the Python Set `issubset` method. Then check if `set1` contains `set3`.*"
   ]
  },
  {
   "cell_type": "code",
   "execution_count": 57,
   "metadata": {},
   "outputs": [
    {
     "name": "stdout",
     "output_type": "stream",
     "text": [
      "False\n",
      "True\n"
     ]
    }
   ],
   "source": [
    "# Your code here\n",
    "\n",
    "print(set(set2).issubset(set1))\n",
    "print(set(set3).issubset(set1))\n"
   ]
  },
  {
   "cell_type": "markdown",
   "metadata": {},
   "source": [
    "#### Using the Python Set `union` method, aggregate `set3`, `set4`, and `set5`. Then aggregate `set1` and `set2`. \n",
    "\n",
    "#### Check if the aggregated values are equal."
   ]
  },
  {
   "cell_type": "code",
   "execution_count": 68,
   "metadata": {},
   "outputs": [
    {
     "name": "stdout",
     "output_type": "stream",
     "text": [
      "{1, 3, 5, 7, 8, 10, 13, 14, 17, 19, 21, 23, 24, 26, 28, 30, 31, 32, 35, 39, 41, 42, 43, 44, 47, 48, 49, 50, 51, 55, 56, 57, 58, 60, 62, 65, 66, 69, 70, 75, 76, 79, 80, 82, 83, 86, 87, 88, 89, 91, 93, 96, 99}\n",
      "{1, 3, 5, 7, 8, 10, 13, 14, 17, 19, 21, 23, 24, 26, 28, 30, 31, 32, 35, 39, 41, 42, 43, 44, 47, 48, 49, 50, 51, 55, 56, 57, 58, 60, 62, 65, 66, 69, 70, 75, 76, 79, 80, 82, 83, 86, 87, 88, 89, 91, 93, 96, 99}\n",
      "(32, 35, 76, 19, 41, 70, 49, 31, 91, 23, 55, 41, 80, 51, 55, 31, 58, 42, 75, 62, 28, 32, 44, 56, 89, 66, 3, 19, 79, 79, 83, 8, 62, 62, 10, 87, 1, 88, 93, 39, 43, 82, 99, 83, 51, 24, 69, 39, 62, 96, 60, 87, 50, 62, 32, 21, 14, 70, 49, 30, 88, 13, 69, 80, 17, 39, 57, 86, 65, 26, 83, 60, 48, 5, 47, 7, 70, 5, 89, 13)\n"
     ]
    }
   ],
   "source": [
    "# Your code here\n",
    "\n",
    "set3.union(set4)\n",
    "print(set3)\n",
    "\n",
    "set3.union(set5)\n",
    "print(set3)\n",
    "\n",
    "\n",
    "set(set1).union(set2)\n",
    "print(set1)\n"
   ]
  },
  {
   "cell_type": "markdown",
   "metadata": {},
   "source": [
    "#### Using the `pop` method, remove the first element from `set1`."
   ]
  },
  {
   "cell_type": "code",
   "execution_count": 105,
   "metadata": {},
   "outputs": [
    {
     "name": "stdout",
     "output_type": "stream",
     "text": [
      "1\n"
     ]
    }
   ],
   "source": [
    "# Your code here\n",
    "\n",
    "listset1 = set(set1)\n",
    "\n",
    "print(listset1.pop())\n",
    "\n"
   ]
  },
  {
   "cell_type": "markdown",
   "metadata": {},
   "source": [
    "#### Remove every element in the following list from `set1` if they are present in the set. Print the remaining elements.\n",
    "\n",
    "```\n",
    "list_to_remove = [1, 9, 11, 19, 21, 29, 31, 39, 41, 49, 51, 59, 61, 69, 71, 79, 81, 89, 91, 99]\n",
    "```"
   ]
  },
  {
   "cell_type": "code",
   "execution_count": 118,
   "metadata": {},
   "outputs": [
    {
     "name": "stdout",
     "output_type": "stream",
     "text": [
      "(32, 35, 76, 19, 41, 70, 49, 31, 91, 23, 55, 41, 80, 51, 55, 31, 58, 42, 75, 62, 28, 32, 44, 56, 89, 66, 3, 19, 79, 79, 83, 8, 62, 62, 10, 87, 1, 88, 93, 39, 43, 82, 99, 83, 51, 24, 69, 39, 62, 96, 60, 87, 50, 62, 32, 21, 14, 70, 49, 30, 88, 13, 69, 80, 17, 39, 57, 86, 65, 26, 83, 60, 48, 5, 47, 7, 70, 5, 89, 13)\n"
     ]
    },
    {
     "data": {
      "text/plain": [
       "{3,\n",
       " 5,\n",
       " 7,\n",
       " 8,\n",
       " 10,\n",
       " 13,\n",
       " 14,\n",
       " 17,\n",
       " 23,\n",
       " 24,\n",
       " 26,\n",
       " 28,\n",
       " 30,\n",
       " 32,\n",
       " 35,\n",
       " 42,\n",
       " 43,\n",
       " 44,\n",
       " 47,\n",
       " 48,\n",
       " 50,\n",
       " 55,\n",
       " 56,\n",
       " 57,\n",
       " 58,\n",
       " 60,\n",
       " 62,\n",
       " 65,\n",
       " 66,\n",
       " 70,\n",
       " 75,\n",
       " 76,\n",
       " 80,\n",
       " 82,\n",
       " 83,\n",
       " 86,\n",
       " 87,\n",
       " 88,\n",
       " 93,\n",
       " 96}"
      ]
     },
     "execution_count": 118,
     "metadata": {},
     "output_type": "execute_result"
    }
   ],
   "source": [
    "# Your code here\n",
    "\n",
    "list_to_remove = [1, 9, 11, 19, 21, 29, 31, 39, 41, 49, 51, 59, 61, 69, 71, 79, 81, 89, 91, 99]\n",
    "\n",
    "print(set1)\n",
    "\n",
    "set(set1).difference(list_to_remove)\n"
   ]
  },
  {
   "cell_type": "code",
   "execution_count": null,
   "metadata": {},
   "outputs": [],
   "source": []
  }
 ],
 "metadata": {
  "kernelspec": {
   "display_name": "Python 3",
   "language": "python",
   "name": "python3"
  },
  "language_info": {
   "codemirror_mode": {
    "name": "ipython",
    "version": 3
   },
   "file_extension": ".py",
   "mimetype": "text/x-python",
   "name": "python",
   "nbconvert_exporter": "python",
   "pygments_lexer": "ipython3",
   "version": "3.7.6"
  }
 },
 "nbformat": 4,
 "nbformat_minor": 2
}
