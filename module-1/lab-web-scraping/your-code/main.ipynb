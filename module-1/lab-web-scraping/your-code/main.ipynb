{
 "cells": [
  {
   "cell_type": "markdown",
   "metadata": {},
   "source": [
    "# Web Scraping Lab\n",
    "\n",
    "You will find in this notebook some scrapy exercises to practise your scraping skills.\n",
    "\n",
    "**Tips:**\n",
    "\n",
    "- Check the response status code for each request to ensure you have obtained the intended contennt.\n",
    "- Print the response text in each request to understand the kind of info you are getting and its format.\n",
    "- Check for patterns in the response text to extract the data/info requested in each question.\n",
    "- Visit each url and take a look at its source through Chrome DevTools. You'll need to identify the html tags, special class names etc. used for the html content you are expected to extract."
   ]
  },
  {
   "cell_type": "markdown",
   "metadata": {},
   "source": [
    "- [Requests library](http://docs.python-requests.org/en/master/#the-user-guide) documentation \n",
    "- [Beautiful Soup Doc](https://www.crummy.com/software/BeautifulSoup/bs4/doc/)\n",
    "- [Urllib](https://docs.python.org/3/library/urllib.html#module-urllib)\n",
    "- [re lib](https://docs.python.org/3/library/re.html)\n",
    "- [lxml lib](https://lxml.de/)\n",
    "- [Scrapy](https://scrapy.org/)\n",
    "- [List of HTTP status codes](https://en.wikipedia.org/wiki/List_of_HTTP_status_codes)\n",
    "- [HTML basics](http://www.simplehtmlguide.com/cheatsheet.php)\n",
    "- [CSS basics](https://www.cssbasics.com/#page_start)"
   ]
  },
  {
   "cell_type": "markdown",
   "metadata": {},
   "source": [
    "#### Below are the libraries and modules you may need. `requests`,  `BeautifulSoup` and `pandas` are imported for you. If you prefer to use additional libraries feel free to uncomment them."
   ]
  },
  {
   "cell_type": "code",
   "execution_count": 1,
   "metadata": {},
   "outputs": [],
   "source": [
    "import requests\n",
    "from bs4 import BeautifulSoup\n",
    "import pandas as pd\n",
    "\n",
    "# from pprint import pprint\n",
    "# from lxml import html\n",
    "# from lxml.html import fromstring\n",
    "# import urllib.request\n",
    "# from urllib.request import urlopen\n",
    "# import random\n",
    "# import re\n",
    "# import scrapy"
   ]
  },
  {
   "cell_type": "markdown",
   "metadata": {},
   "source": [
    "#### Download, parse (using BeautifulSoup), and print the content from the Trending Developers page from GitHub:"
   ]
  },
  {
   "cell_type": "code",
   "execution_count": 2,
   "metadata": {},
   "outputs": [],
   "source": [
    "# This is the url you will scrape in this exercise\n",
    "url = 'https://github.com/trending/developers'"
   ]
  },
  {
   "cell_type": "code",
   "execution_count": 3,
   "metadata": {},
   "outputs": [],
   "source": [
    "#your code\n",
    "\n",
    "res = requests.get('https://github.com/trending/developers')\n",
    "urlbs = BeautifulSoup(res.text, 'html.parser')\n",
    "\n",
    "#print(urlbs)"
   ]
  },
  {
   "cell_type": "markdown",
   "metadata": {},
   "source": [
    "#### Display the names of the trending developers retrieved in the previous step.\n",
    "\n",
    "Your output should be a Python list of developer names. Each name should not contain any html tag.\n",
    "\n",
    "**Instructions:**\n",
    "\n",
    "1. Find out the html tag and class names used for the developer names. You can achieve this using Chrome DevTools.\n",
    "\n",
    "1. Use BeautifulSoup to extract all the html elements that contain the developer names.\n",
    "\n",
    "1. Use string manipulation techniques to replace whitespaces and linebreaks (i.e. `\\n`) in the *text* of each html element. Use a list to store the clean names.\n",
    "\n",
    "1. Print the list of names.\n",
    "\n",
    "Your output should look like below:\n",
    "\n",
    "```\n",
    "['trimstray (@trimstray)',\n",
    " 'joewalnes (JoeWalnes)',\n",
    " 'charlax (Charles-AxelDein)',\n",
    " 'ForrestKnight (ForrestKnight)',\n",
    " 'revery-ui (revery-ui)',\n",
    " 'alibaba (Alibaba)',\n",
    " 'Microsoft (Microsoft)',\n",
    " 'github (GitHub)',\n",
    " 'facebook (Facebook)',\n",
    " 'boazsegev (Bo)',\n",
    " 'google (Google)',\n",
    " 'cloudfetch',\n",
    " 'sindresorhus (SindreSorhus)',\n",
    " 'tensorflow',\n",
    " 'apache (TheApacheSoftwareFoundation)',\n",
    " 'DevonCrawford (DevonCrawford)',\n",
    " 'ARMmbed (ArmMbed)',\n",
    " 'vuejs (vuejs)',\n",
    " 'fastai (fast.ai)',\n",
    " 'QiShaoXuan (Qi)',\n",
    " 'joelparkerhenderson (JoelParkerHenderson)',\n",
    " 'torvalds (LinusTorvalds)',\n",
    " 'CyC2018',\n",
    " 'komeiji-satori (神楽坂覚々)',\n",
    " 'script-8']\n",
    " ```"
   ]
  },
  {
   "cell_type": "code",
   "execution_count": 4,
   "metadata": {},
   "outputs": [
    {
     "data": {
      "text/plain": [
       "['/mattn',\n",
       " '\\n            mattn\\n',\n",
       " '/amueller',\n",
       " '\\n            Andreas Mueller\\n',\n",
       " '/brianc',\n",
       " '\\n            Brian C\\n',\n",
       " '/ErikSchierboom',\n",
       " '\\n            Erik Schierboom\\n',\n",
       " '/JohnSundell',\n",
       " '\\n            John Sundell\\n',\n",
       " '/siddharthkp',\n",
       " '\\n            Siddharth Kshetrapal\\n',\n",
       " '/jasonwilliams',\n",
       " '\\n            Jason Williams\\n',\n",
       " '/kyleconroy',\n",
       " '\\n            Kyle Conroy\\n',\n",
       " '/asottile',\n",
       " '\\n            Anthony Sottile\\n',\n",
       " '/wcandillon',\n",
       " '\\n            William Candillon\\n',\n",
       " '/cmyr',\n",
       " '\\n            Colin Rofls\\n',\n",
       " '/panva',\n",
       " '\\n            Filip Skokan\\n',\n",
       " '/amilajack',\n",
       " '\\n            Amila Welihinda\\n',\n",
       " '/KristofferC',\n",
       " '\\n            Kristoffer Carlsson\\n',\n",
       " '/gcanti',\n",
       " '\\n            Giulio Canti\\n',\n",
       " '/greatghoul',\n",
       " '\\n            greatghoul\\n',\n",
       " '/miekg',\n",
       " '\\n            Miek Gieben\\n',\n",
       " '/Naturalclar',\n",
       " '\\n            Jesse Katsumata\\n',\n",
       " '/lucasmichot',\n",
       " '\\n            Lucas Michot\\n',\n",
       " '/ageitgey',\n",
       " '\\n            Adam Geitgey\\n',\n",
       " '/phil-opp',\n",
       " '\\n            Philipp Oppermann\\n',\n",
       " '/tony',\n",
       " '\\n            Tony Narlock\\n',\n",
       " '/isaacs',\n",
       " '\\n            isaacs\\n',\n",
       " '/4ian',\n",
       " '\\n            Florian Rival\\n',\n",
       " '/satya164',\n",
       " '\\n            Satyajit Sahoo\\n']"
      ]
     },
     "execution_count": 4,
     "metadata": {},
     "output_type": "execute_result"
    }
   ],
   "source": [
    "#your code\n",
    "# Find out the html tag and class names used for the developer names. You can achieve this using Chrome DevTools.\n",
    "\n",
    "res=urlbs.select('h1.h3.lh-condensed')\n",
    "\n",
    "name_user = []\n",
    "\n",
    "for r in res:\n",
    "    name_user.append(r.find('a').get('href'))\n",
    "    name_user.append(r.find('a').text)\n",
    "    \n",
    "name_user"
   ]
  },
  {
   "cell_type": "code",
   "execution_count": 5,
   "metadata": {},
   "outputs": [
    {
     "data": {
      "text/plain": [
       "['mattnmattn',\n",
       " 'amuellerAndreas Mueller',\n",
       " 'briancBrian C',\n",
       " 'ErikSchierboomErik Schierboom',\n",
       " 'JohnSundellJohn Sundell',\n",
       " 'siddharthkpSiddharth Kshetrapal',\n",
       " 'jasonwilliamsJason Williams',\n",
       " 'kyleconroyKyle Conroy',\n",
       " 'asottileAnthony Sottile',\n",
       " 'wcandillonWilliam Candillon',\n",
       " 'cmyrColin Rofls',\n",
       " 'panvaFilip Skokan',\n",
       " 'amilajackAmila Welihinda',\n",
       " 'KristofferCKristoffer Carlsson',\n",
       " 'gcantiGiulio Canti',\n",
       " 'greatghoulgreatghoul',\n",
       " 'miekgMiek Gieben',\n",
       " 'NaturalclarJesse Katsumata',\n",
       " 'lucasmichotLucas Michot',\n",
       " 'ageitgeyAdam Geitgey',\n",
       " 'phil-oppPhilipp Oppermann',\n",
       " 'tonyTony Narlock',\n",
       " 'isaacsisaacs',\n",
       " '4ianFlorian Rival',\n",
       " 'satya164Satyajit Sahoo']"
      ]
     },
     "execution_count": 5,
     "metadata": {},
     "output_type": "execute_result"
    }
   ],
   "source": [
    "name_user_f = []\n",
    "\n",
    "for i in name_user:\n",
    "    name_user_f.append(str(i).replace(\"\\\\n\", \"\").replace(\"\\n\",\"\").replace(\"/\",\"\").strip())\n",
    "\n",
    "[ ''.join(x) for x in zip(name_user_f[0::2], name_user_f[1::2])]"
   ]
  },
  {
   "cell_type": "code",
   "execution_count": null,
   "metadata": {},
   "outputs": [],
   "source": [
    "\n",
    "# Convierte a string el contenido de una etiqueta\n",
    "print(tag.text)\n",
    "\n",
    "# Atibutos de la etiqueta como diccionario python\n",
    "print(tag.attrs)\n",
    "print(tag.attrs[\"class\"][0])"
   ]
  },
  {
   "cell_type": "markdown",
   "metadata": {},
   "source": [
    "#### Display the trending Python repositories in GitHub\n",
    "\n",
    "The steps to solve this problem is similar to the previous one except that you need to find out the repository names instead of developer names."
   ]
  },
  {
   "cell_type": "code",
   "execution_count": 7,
   "metadata": {},
   "outputs": [],
   "source": [
    "# This is the url you will scrape in this exercise\n",
    "url = 'https://github.com/trending/python?since=daily'"
   ]
  },
  {
   "cell_type": "code",
   "execution_count": 8,
   "metadata": {},
   "outputs": [],
   "source": [
    "#your code\n",
    "\n",
    "repos = requests.get(url)\n",
    "\n",
    "repossoup = BeautifulSoup(repos.text, 'html.parser')\n",
    "\n",
    "#print(repossoup)\n"
   ]
  },
  {
   "cell_type": "code",
   "execution_count": null,
   "metadata": {},
   "outputs": [],
   "source": [
    "repos = repossoup.select('h1.h3.lh-condensed')\n",
    "print(len(repos))\n",
    "repos"
   ]
  },
  {
   "cell_type": "code",
   "execution_count": 46,
   "metadata": {
    "scrolled": true
   },
   "outputs": [
    {
     "name": "stdout",
     "output_type": "stream",
     "text": [
      "['\\n\\n\\n        BlankerL /\\n\\n\\n\\n      DXY-2019-nCoV-Crawler\\n', '\\n\\n\\n        gto76 /\\n\\n\\n\\n      python-cheatsheet\\n', '\\n\\n\\n        smicallef /\\n\\n\\n\\n      spiderfoot\\n', '\\n\\n\\n        sebastianruder /\\n\\n\\n\\n      NLP-progress\\n', '\\n\\n\\n        rish-16 /\\n\\n\\n\\n      sight\\n', '\\n\\n\\n        luong-komorebi /\\n\\n\\n\\n      Awesome-Linux-Software\\n', '\\n\\n\\n        vinta /\\n\\n\\n\\n      awesome-python\\n', '\\n\\n\\n        nicrusso7 /\\n\\n\\n\\n      rex-gym\\n', '\\n\\n\\n        baowenbo /\\n\\n\\n\\n      DAIN\\n', '\\n\\n\\n        eastlakeside /\\n\\n\\n\\n      interpy-zh\\n', '\\n\\n\\n        tiangolo /\\n\\n\\n\\n      fastapi\\n', '\\n\\n\\n        explosion /\\n\\n\\n\\n      thinc\\n', '\\n\\n\\n        willmcgugan /\\n\\n\\n\\n      rich\\n', '\\n\\n\\n        MatthewPierson /\\n\\n\\n\\n      Vieux\\n', '\\n\\n\\n        CCExtractor /\\n\\n\\n\\n      vardbg\\n', '\\n\\n\\n        dragen1860 /\\n\\n\\n\\n      Deep-Learning-with-TensorFlow-book\\n', '\\n\\n\\n        brendangregg /\\n\\n\\n\\n      bpf-perf-tools-book\\n', '\\n\\n\\n        googleapis /\\n\\n\\n\\n      google-cloud-python\\n', '\\n\\n\\n        anchore /\\n\\n\\n\\n      anchore-engine\\n', '\\n\\n\\n        aj-4 /\\n\\n\\n\\n      tinder-swipe-bot\\n', '\\n\\n\\n        pytorch /\\n\\n\\n\\n      captum\\n', '\\n\\n\\n        samuelhwilliams /\\n\\n\\n\\n      Eel\\n', '\\n\\n\\n        salesforce /\\n\\n\\n\\n      policy_sentry\\n', '\\n\\n\\n        yzhao062 /\\n\\n\\n\\n      anomaly-detection-resources\\n', '\\n\\n\\n        vineetjohn /\\n\\n\\n\\n      daily-coding-problem\\n']\n"
     ]
    }
   ],
   "source": [
    "repos2 = []\n",
    "\n",
    "for r in repos:\n",
    "    repos2.append(r.find('a').text)\n",
    "\n",
    "print(repos2)"
   ]
  },
  {
   "cell_type": "code",
   "execution_count": 47,
   "metadata": {},
   "outputs": [
    {
     "data": {
      "text/plain": [
       "['BlankerL DXY-2019-nCoV-Crawler',\n",
       " 'gto76 python-cheatsheet',\n",
       " 'smicallef spiderfoot',\n",
       " 'sebastianruder NLP-progress',\n",
       " 'rish-16 sight',\n",
       " 'luong-komorebi Awesome-Linux-Software',\n",
       " 'vinta awesome-python',\n",
       " 'nicrusso7 rex-gym',\n",
       " 'baowenbo DAIN',\n",
       " 'eastlakeside interpy-zh',\n",
       " 'tiangolo fastapi',\n",
       " 'explosion thinc',\n",
       " 'willmcgugan rich',\n",
       " 'MatthewPierson Vieux',\n",
       " 'CCExtractor vardbg',\n",
       " 'dragen1860 Deep-Learning-with-TensorFlow-book',\n",
       " 'brendangregg bpf-perf-tools-book',\n",
       " 'googleapis google-cloud-python',\n",
       " 'anchore anchore-engine',\n",
       " 'aj-4 tinder-swipe-bot',\n",
       " 'pytorch captum',\n",
       " 'samuelhwilliams Eel',\n",
       " 'salesforce policy_sentry',\n",
       " 'yzhao062 anomaly-detection-resources',\n",
       " 'vineetjohn daily-coding-problem']"
      ]
     },
     "execution_count": 47,
     "metadata": {},
     "output_type": "execute_result"
    }
   ],
   "source": [
    "repos3 = []\n",
    "\n",
    "for i in repos2:\n",
    "    repos3.append(i.replace(\"\\n\", \"\").replace(\" \", \"\").replace(\"/\", \" \"))\n",
    "\n",
    "repos3"
   ]
  },
  {
   "cell_type": "markdown",
   "metadata": {},
   "source": [
    "#### Display all the image links from Walt Disney wikipedia page"
   ]
  },
  {
   "cell_type": "code",
   "execution_count": null,
   "metadata": {},
   "outputs": [],
   "source": [
    "# This is the url you will scrape in this exercise\n",
    "url = 'https://en.wikipedia.org/wiki/Walt_Disney'"
   ]
  },
  {
   "cell_type": "code",
   "execution_count": null,
   "metadata": {},
   "outputs": [],
   "source": [
    "#your code"
   ]
  },
  {
   "cell_type": "markdown",
   "metadata": {},
   "source": [
    "#### Retrieve an arbitary Wikipedia page of \"Python\" and create a list of links on that page"
   ]
  },
  {
   "cell_type": "code",
   "execution_count": null,
   "metadata": {},
   "outputs": [],
   "source": [
    "# This is the url you will scrape in this exercise\n",
    "url ='https://en.wikipedia.org/wiki/Python' "
   ]
  },
  {
   "cell_type": "code",
   "execution_count": null,
   "metadata": {},
   "outputs": [],
   "source": [
    "#your code"
   ]
  },
  {
   "cell_type": "markdown",
   "metadata": {},
   "source": [
    "#### Number of Titles that have changed in the United States Code since its last release point "
   ]
  },
  {
   "cell_type": "code",
   "execution_count": null,
   "metadata": {},
   "outputs": [],
   "source": [
    "# This is the url you will scrape in this exercise\n",
    "url = 'http://uscode.house.gov/download/download.shtml'"
   ]
  },
  {
   "cell_type": "code",
   "execution_count": null,
   "metadata": {},
   "outputs": [],
   "source": [
    "#your code"
   ]
  },
  {
   "cell_type": "markdown",
   "metadata": {},
   "source": [
    "#### A Python list with the top ten FBI's Most Wanted names "
   ]
  },
  {
   "cell_type": "code",
   "execution_count": null,
   "metadata": {},
   "outputs": [],
   "source": [
    "# This is the url you will scrape in this exercise\n",
    "url = 'https://www.fbi.gov/wanted/topten'"
   ]
  },
  {
   "cell_type": "code",
   "execution_count": null,
   "metadata": {},
   "outputs": [],
   "source": [
    "#your code "
   ]
  },
  {
   "cell_type": "markdown",
   "metadata": {},
   "source": [
    "####  20 latest earthquakes info (date, time, latitude, longitude and region name) by the EMSC as a pandas dataframe"
   ]
  },
  {
   "cell_type": "code",
   "execution_count": null,
   "metadata": {},
   "outputs": [],
   "source": [
    "# This is the url you will scrape in this exercise\n",
    "url = 'https://www.emsc-csem.org/Earthquake/'"
   ]
  },
  {
   "cell_type": "code",
   "execution_count": null,
   "metadata": {},
   "outputs": [],
   "source": [
    "#your code"
   ]
  },
  {
   "cell_type": "markdown",
   "metadata": {},
   "source": [
    "#### Display the date, days, title, city, country of next 25 hackathon events as a Pandas dataframe table"
   ]
  },
  {
   "cell_type": "code",
   "execution_count": null,
   "metadata": {},
   "outputs": [],
   "source": [
    "# This is the url you will scrape in this exercise\n",
    "url ='https://hackevents.co/hackathons'"
   ]
  },
  {
   "cell_type": "code",
   "execution_count": null,
   "metadata": {},
   "outputs": [],
   "source": [
    "#your code"
   ]
  },
  {
   "cell_type": "markdown",
   "metadata": {},
   "source": [
    "#### Count number of tweets by a given Twitter account."
   ]
  },
  {
   "cell_type": "markdown",
   "metadata": {},
   "source": [
    "You will need to include a ***try/except block*** for account names not found. \n",
    "<br>***Hint:*** the program should count the number of tweets for any provided account"
   ]
  },
  {
   "cell_type": "code",
   "execution_count": null,
   "metadata": {},
   "outputs": [],
   "source": [
    "# This is the url you will scrape in this exercise \n",
    "# You will need to add the account credentials to this url\n",
    "url = 'https://twitter.com/'"
   ]
  },
  {
   "cell_type": "code",
   "execution_count": null,
   "metadata": {},
   "outputs": [],
   "source": [
    "#your code"
   ]
  },
  {
   "cell_type": "markdown",
   "metadata": {},
   "source": [
    "#### Number of followers of a given twitter account"
   ]
  },
  {
   "cell_type": "markdown",
   "metadata": {},
   "source": [
    "You will need to include a ***try/except block*** in case account/s name not found. \n",
    "<br>***Hint:*** the program should count the followers for any provided account"
   ]
  },
  {
   "cell_type": "code",
   "execution_count": null,
   "metadata": {},
   "outputs": [],
   "source": [
    "# This is the url you will scrape in this exercise \n",
    "# You will need to add the account credentials to this url\n",
    "url = 'https://twitter.com/'"
   ]
  },
  {
   "cell_type": "code",
   "execution_count": null,
   "metadata": {},
   "outputs": [],
   "source": [
    "#your code"
   ]
  },
  {
   "cell_type": "markdown",
   "metadata": {},
   "source": [
    "#### List all language names and number of related articles in the order they appear in wikipedia.org"
   ]
  },
  {
   "cell_type": "code",
   "execution_count": null,
   "metadata": {},
   "outputs": [],
   "source": [
    "# This is the url you will scrape in this exercise\n",
    "url = 'https://www.wikipedia.org/'"
   ]
  },
  {
   "cell_type": "code",
   "execution_count": null,
   "metadata": {},
   "outputs": [],
   "source": [
    "#your code"
   ]
  },
  {
   "cell_type": "markdown",
   "metadata": {},
   "source": [
    "#### A list with the different kind of datasets available in data.gov.uk "
   ]
  },
  {
   "cell_type": "code",
   "execution_count": null,
   "metadata": {},
   "outputs": [],
   "source": [
    "# This is the url you will scrape in this exercise\n",
    "url = 'https://data.gov.uk/'"
   ]
  },
  {
   "cell_type": "code",
   "execution_count": null,
   "metadata": {},
   "outputs": [],
   "source": [
    "#your code "
   ]
  },
  {
   "cell_type": "markdown",
   "metadata": {},
   "source": [
    "#### Top 10 languages by number of native speakers stored in a Pandas Dataframe"
   ]
  },
  {
   "cell_type": "code",
   "execution_count": null,
   "metadata": {},
   "outputs": [],
   "source": [
    "# This is the url you will scrape in this exercise\n",
    "url = 'https://en.wikipedia.org/wiki/List_of_languages_by_number_of_native_speakers'"
   ]
  },
  {
   "cell_type": "code",
   "execution_count": null,
   "metadata": {},
   "outputs": [],
   "source": [
    "#your code"
   ]
  },
  {
   "cell_type": "markdown",
   "metadata": {},
   "source": [
    "### BONUS QUESTIONS"
   ]
  },
  {
   "cell_type": "markdown",
   "metadata": {},
   "source": [
    "#### Scrape a certain number of tweets of a given Twitter account."
   ]
  },
  {
   "cell_type": "code",
   "execution_count": null,
   "metadata": {},
   "outputs": [],
   "source": [
    "# This is the url you will scrape in this exercise \n",
    "# You will need to add the account credentials to this url\n",
    "url = 'https://twitter.com/'"
   ]
  },
  {
   "cell_type": "code",
   "execution_count": null,
   "metadata": {},
   "outputs": [],
   "source": [
    "# your code"
   ]
  },
  {
   "cell_type": "markdown",
   "metadata": {},
   "source": [
    "#### IMDB's Top 250 data (movie name, Initial release, director name and stars) as a pandas dataframe"
   ]
  },
  {
   "cell_type": "code",
   "execution_count": null,
   "metadata": {},
   "outputs": [],
   "source": [
    "# This is the url you will scrape in this exercise \n",
    "url = 'https://www.imdb.com/chart/top'"
   ]
  },
  {
   "cell_type": "code",
   "execution_count": null,
   "metadata": {},
   "outputs": [],
   "source": [
    "# your code"
   ]
  },
  {
   "cell_type": "markdown",
   "metadata": {},
   "source": [
    "#### Movie name, year and a brief summary of the top 10 random movies (IMDB) as a pandas dataframe."
   ]
  },
  {
   "cell_type": "code",
   "execution_count": null,
   "metadata": {},
   "outputs": [],
   "source": [
    "#This is the url you will scrape in this exercise\n",
    "url = 'http://www.imdb.com/chart/top'"
   ]
  },
  {
   "cell_type": "code",
   "execution_count": null,
   "metadata": {},
   "outputs": [],
   "source": [
    "#your code"
   ]
  },
  {
   "cell_type": "markdown",
   "metadata": {},
   "source": [
    "#### Find the live weather report (temperature, wind speed, description and weather) of a given city."
   ]
  },
  {
   "cell_type": "code",
   "execution_count": null,
   "metadata": {},
   "outputs": [],
   "source": [
    "#https://openweathermap.org/current\n",
    "city = city=input('Enter the city:')\n",
    "url = 'http://api.openweathermap.org/data/2.5/weather?'+'q='+city+'&APPID=b35975e18dc93725acb092f7272cc6b8&units=metric'"
   ]
  },
  {
   "cell_type": "code",
   "execution_count": null,
   "metadata": {},
   "outputs": [],
   "source": [
    "# your code"
   ]
  },
  {
   "cell_type": "markdown",
   "metadata": {},
   "source": [
    "#### Book name,price and stock availability as a pandas dataframe."
   ]
  },
  {
   "cell_type": "code",
   "execution_count": null,
   "metadata": {},
   "outputs": [],
   "source": [
    "# This is the url you will scrape in this exercise. \n",
    "# It is a fictional bookstore created to be scraped. \n",
    "url = 'http://books.toscrape.com/'"
   ]
  },
  {
   "cell_type": "code",
   "execution_count": null,
   "metadata": {},
   "outputs": [],
   "source": [
    "#your code"
   ]
  }
 ],
 "metadata": {
  "kernelspec": {
   "display_name": "Python 3",
   "language": "python",
   "name": "python3"
  },
  "language_info": {
   "codemirror_mode": {
    "name": "ipython",
    "version": 3
   },
   "file_extension": ".py",
   "mimetype": "text/x-python",
   "name": "python",
   "nbconvert_exporter": "python",
   "pygments_lexer": "ipython3",
   "version": "3.7.6"
  }
 },
 "nbformat": 4,
 "nbformat_minor": 2
}
